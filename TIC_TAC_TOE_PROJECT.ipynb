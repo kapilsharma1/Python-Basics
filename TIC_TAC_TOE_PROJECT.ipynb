{
 "cells": [
  {
   "cell_type": "code",
   "execution_count": 1,
   "metadata": {},
   "outputs": [],
   "source": [
    "# A function to check which player wins if an winning combination is formed.\n",
    "def winner_check(pos):   \n",
    "    if board[pos]=='O':\n",
    "        print(\"Player 1 wins!!!\\n\")\n",
    "    \n",
    "    elif board[pos]=='X':\n",
    "        print(\"Player 2 wins!!!\\n\")\n",
    "        "
   ]
  },
  {
   "cell_type": "code",
   "execution_count": 2,
   "metadata": {},
   "outputs": [],
   "source": [
    "# A function to check if any winning combination is formed or not.\n",
    "def win_check(): \n",
    "    if board[1]==board[2]==board[3] and board[1]!='.':\n",
    "        win=True\n",
    "        winner_check(1) #in case the win is True,check the winner.\n",
    "        return win\n",
    "    elif board[4]==board[5]==board[6] and board[4]!='.':\n",
    "        win=True\n",
    "        winner_check(4)\n",
    "        return win\n",
    "    elif board[7]==board[8]==board[9] and board[7]!='.':\n",
    "        win=True\n",
    "        winner_check(7)\n",
    "        return win\n",
    "    elif board[1]==board[4]==board[7] and board[1]!='.':\n",
    "        win=True\n",
    "        winner_check(1)\n",
    "        return win\n",
    "    elif board[2]==board[5]==board[8] and board[2]!='.':\n",
    "        win=True\n",
    "        winner_check(2)\n",
    "        return win\n",
    "    elif board[3]==board[6]==board[9] and board[3]!='.':\n",
    "        win=True\n",
    "        winner_check(3)\n",
    "        return win\n",
    "    elif board[1]==board[5]==board[9] and board[1]!='.':\n",
    "        win=True\n",
    "        winner_check(1)\n",
    "        return win\n",
    "    elif board[3]==board[5]==board[7] and board[3]!='.':\n",
    "        win=True\n",
    "        winner_check(3)\n",
    "        return win\n",
    "    elif '.' not in board.values(): #In case of match tie.\n",
    "        win =False\n",
    "        return win"
   ]
  },
  {
   "cell_type": "code",
   "execution_count": null,
   "metadata": {},
   "outputs": [],
   "source": [
    "# A function to print the board on screen.\n",
    "def print_board():\n",
    "    print(\"%s\\t%s\\t%s\\n\\n%s\\t%s\\t%s\\n\\n%s\\t%s\\t%s\"%(board[1],board[2],board[3],board[4],board[5],board[6],board[7],board[8],board[9]))\n",
    "    "
   ]
  },
  {
   "cell_type": "code",
   "execution_count": null,
   "metadata": {},
   "outputs": [
    {
     "name": "stdout",
     "output_type": "stream",
     "text": [
      "\n",
      "-------------------\n",
      "\n",
      ".\t.\t.\n",
      "\n",
      ".\t.\t.\n",
      "\n",
      ".\t.\t.\n",
      "\n",
      "-------------------\n",
      "\n"
     ]
    }
   ],
   "source": [
    "# MAIN BLOCK,gets the input positions from the user and repeats the game till user wants.\n",
    "\n",
    "repeat_status=\"y\" #To initialize repeat_status.\n",
    "while repeat_status!=\"n\": #Repeats the game until user press'n'.\n",
    "    board={1:'.',2:'.',3:'.',4:'.',5:'.',6:'.',7:'.',8:'.',9:'.'} #Initial board without any user input.\n",
    "    positions=(1,2,3,4,5,6,7,8,9) #Valid positions on the board\n",
    "    win=\"Just for initializing\"\n",
    "    n=0 #For initializing n.\n",
    "    occupied_pos=[] #initializing a list which contains the positions entered by user as game continues. \n",
    "    \n",
    "    while '.' in board.values(): # loop to get input from both players alternatively and to check win on each iteration.\n",
    "        print(\"\\n-------------------\\n\")\n",
    "        print_board()\n",
    "        print(\"\\n-------------------\\n\")\n",
    "        win=win_check()\n",
    "        if win==True:\n",
    "            break; #When any player wins,stop further input and show the final result.   \n",
    "    \n",
    "        if n%2==0: #For getting an alternate input between player 1 and 2.\n",
    "            ipt=input(\"Player 1 enter your position for 'O' on board (1 to 9)=> \") #asking player for input position.\n",
    "            input_pos=int(ipt)\n",
    "            if (input_pos in positions) and (input_pos not in occupied_pos):#If player inputs valid position,place his mark on board.\n",
    "                board[input_pos]='O'\n",
    "                occupied_pos.append(input_pos)\n",
    "            else:\n",
    "                print(\"\\nSorry input position either does not exist or previously occupied!\")#else return a message\n",
    "                continue #ask the same player again for the input.\n",
    "        else:\n",
    "            ipt=input(\"Player 2 enter your position for 'X' on board (1 to 9)=> \")\n",
    "            input_pos=int(ipt)\n",
    "        \n",
    "            if (input_pos in positions) and (input_pos not in occupied_pos):\n",
    "                board[input_pos]='X'\n",
    "                occupied_pos.append(input_pos)\n",
    "            else:\n",
    "                print(\"\\nSorry input position either does not exist or previously occupied!\")\n",
    "                continue\n",
    "        n+=1 #incrementing 1 for getting input form next player\n",
    "    \n",
    "    print(\"\\n--------------FINAL RESULT-------------\\n\") \n",
    "    print_board() #Print final board.\n",
    "    print(\"\\n\")\n",
    "    win=win_check()\n",
    "    if win==False: #In case of match tie.\n",
    "        print(\"Match is Tied!!!\")\n",
    "        \n",
    "    repeat_status=input(\"------------------------------------------\\nDo you want to play the game again?? (y/n)\\n\")\n",
    "    if repeat_status=='n': #Greets user and quits.\n",
    "        print(\"\\nTHANK YOU for playing the game!!!\")\n",
    "        \n",
    "    \n",
    "\n",
    "\n",
    "\n",
    "\n",
    "    \n"
   ]
  },
  {
   "cell_type": "code",
   "execution_count": null,
   "metadata": {},
   "outputs": [],
   "source": []
  },
  {
   "cell_type": "code",
   "execution_count": null,
   "metadata": {},
   "outputs": [],
   "source": []
  },
  {
   "cell_type": "code",
   "execution_count": null,
   "metadata": {},
   "outputs": [],
   "source": [
    "\n"
   ]
  },
  {
   "cell_type": "code",
   "execution_count": null,
   "metadata": {},
   "outputs": [],
   "source": []
  },
  {
   "cell_type": "code",
   "execution_count": null,
   "metadata": {},
   "outputs": [],
   "source": []
  },
  {
   "cell_type": "code",
   "execution_count": null,
   "metadata": {},
   "outputs": [],
   "source": []
  },
  {
   "cell_type": "code",
   "execution_count": null,
   "metadata": {},
   "outputs": [],
   "source": []
  }
 ],
 "metadata": {
  "kernelspec": {
   "display_name": "Python 3",
   "language": "python",
   "name": "python3"
  },
  "language_info": {
   "codemirror_mode": {
    "name": "ipython",
    "version": 3
   },
   "file_extension": ".py",
   "mimetype": "text/x-python",
   "name": "python",
   "nbconvert_exporter": "python",
   "pygments_lexer": "ipython3",
   "version": "3.6.4"
  }
 },
 "nbformat": 4,
 "nbformat_minor": 2
}
