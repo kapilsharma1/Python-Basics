{
 "cells": [
  {
   "cell_type": "markdown",
   "metadata": {},
   "source": [
    "Problem 1-\n",
    "Handle the exception thrown by the code below by using try and except blocks.\n",
    "\n",
    "for i in ['a','b','c']:\n",
    "    \n",
    "    print i**2"
   ]
  },
  {
   "cell_type": "code",
   "execution_count": 1,
   "metadata": {},
   "outputs": [
    {
     "name": "stdout",
     "output_type": "stream",
     "text": [
      "Error: the elemnts in the list are not numbers so can't be raised to the power of 2.\n"
     ]
    }
   ],
   "source": [
    "try :\n",
    "    for i in ['a','b','c']:\n",
    "        print(i**2)\n",
    "except :\n",
    "    print(\"Error: the elemnts in the list are not numbers so can't be raised to the power of 2.\")\n",
    "\n",
    "    "
   ]
  },
  {
   "cell_type": "markdown",
   "metadata": {},
   "source": [
    "Problem 2-\n",
    "Handle the exception thrown by the code below by using try and except blocks. Then use a finally block to print 'All Done.'\n",
    "\n",
    "x = 5,\n",
    "y = 0\n",
    "\n",
    "z = x/y\n",
    "\n",
    "\n"
   ]
  },
  {
   "cell_type": "code",
   "execution_count": 2,
   "metadata": {},
   "outputs": [
    {
     "name": "stdout",
     "output_type": "stream",
     "text": [
      "Error- Indermined form (Division by zero)\n",
      "All done\n"
     ]
    }
   ],
   "source": [
    "try:\n",
    "    x=5\n",
    "    y=0\n",
    "    z=x/y\n",
    "except:\n",
    "    print(\"Error- Indermined form (Division by zero)\")\n",
    "finally:\n",
    "    print(\"All done\")"
   ]
  },
  {
   "cell_type": "markdown",
   "metadata": {},
   "source": [
    "Problem 3-\n",
    "Write a function that asks for an integer and prints the square of it. Use a while loop with a try,except, else block to account for incorrect inputs.\n",
    "\n"
   ]
  },
  {
   "cell_type": "code",
   "execution_count": 3,
   "metadata": {},
   "outputs": [],
   "source": [
    "def square():\n",
    "    while True:\n",
    "        try:\n",
    "            ipt=int(input(\"Please enter an integer \"))\n",
    "        except:\n",
    "            print(\"Looks like you didn't entered an integer,please try again\")\n",
    "            continue\n",
    "        else:\n",
    "            print(\"Yup! this is an integer\")\n",
    "            break\n",
    "    print(ipt**2)\n",
    "        \n",
    "    "
   ]
  },
  {
   "cell_type": "code",
   "execution_count": 4,
   "metadata": {},
   "outputs": [
    {
     "name": "stdout",
     "output_type": "stream",
     "text": [
      "Please enter an integer five\n",
      "Looks like you didn't entered an integer,please try again\n",
      "Please enter an integer six\n",
      "Looks like you didn't entered an integer,please try again\n",
      "Please enter an integer 5\n",
      "Yup! this is an integer\n",
      "25\n"
     ]
    }
   ],
   "source": [
    "square()\n"
   ]
  },
  {
   "cell_type": "code",
   "execution_count": null,
   "metadata": {},
   "outputs": [],
   "source": [
    "\n",
    "\n"
   ]
  }
 ],
 "metadata": {
  "kernelspec": {
   "display_name": "Python 3",
   "language": "python",
   "name": "python3"
  },
  "language_info": {
   "codemirror_mode": {
    "name": "ipython",
    "version": 3
   },
   "file_extension": ".py",
   "mimetype": "text/x-python",
   "name": "python",
   "nbconvert_exporter": "python",
   "pygments_lexer": "ipython3",
   "version": "3.6.4"
  }
 },
 "nbformat": 4,
 "nbformat_minor": 2
}
