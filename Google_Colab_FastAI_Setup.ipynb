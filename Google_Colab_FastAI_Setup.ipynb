{
  "nbformat": 4,
  "nbformat_minor": 0,
  "metadata": {
    "colab": {
      "name": "Google Colab FastAI Setup.ipynb",
      "version": "0.3.2",
      "provenance": [],
      "collapsed_sections": []
    },
    "kernelspec": {
      "name": "python3",
      "display_name": "Python 3"
    },
    "accelerator": "GPU"
  },
  "cells": [
    {
      "metadata": {
        "id": "6hfZoL6-73Mt",
        "colab_type": "text"
      },
      "cell_type": "markdown",
      "source": [
        "**1. Verify the notebook is being executed on a GPU runtime.**"
      ]
    },
    {
      "metadata": {
        "id": "Thq8GF-t5Qsn",
        "colab_type": "code",
        "outputId": "6b4d294b-da80-4e50-a37f-733f0133d8ad",
        "colab": {
          "base_uri": "https://localhost:8080/",
          "height": 34
        }
      },
      "cell_type": "code",
      "source": [
        "import tensorflow as tf\n",
        "# This should print out an output like \"/device:GPU:0\". If you get an empty \n",
        "# string, verify you are on a GPU runtime. \n",
        "# Goto Runtime menu -> Change runtime type -> Select GPU in the hardware accelerator spinner\n",
        "tf.test.gpu_device_name()"
      ],
      "execution_count": 0,
      "outputs": [
        {
          "output_type": "execute_result",
          "data": {
            "text/plain": [
              "'/device:GPU:0'"
            ]
          },
          "metadata": {
            "tags": []
          },
          "execution_count": 1
        }
      ]
    },
    {
      "metadata": {
        "id": "aOj_rI8m8ji7",
        "colab_type": "text"
      },
      "cell_type": "markdown",
      "source": [
        "**2. Install Pytorch, FastAI and LibSM**"
      ]
    },
    {
      "metadata": {
        "id": "iZJkZ3NN84B4",
        "colab_type": "code",
        "outputId": "acd97512-eff5-4503-bcf8-5aacd25c0d9e",
        "colab": {
          "base_uri": "https://localhost:8080/",
          "height": 4695
        }
      },
      "cell_type": "code",
      "source": [
        "!pip install http://download.pytorch.org/whl/cu75/torch-0.3.0.post4-cp36-cp36m-linux_x86_64.whl \n",
        "!pip install torchvision\n",
        "!pip install fastai\n",
        "!apt update && apt install -y libsm6 libxext6"
      ],
      "execution_count": 0,
      "outputs": [
        {
          "output_type": "stream",
          "text": [
            "Collecting torch==0.3.0.post4 from http://download.pytorch.org/whl/cu75/torch-0.3.0.post4-cp36-cp36m-linux_x86_64.whl\n",
            "  Downloading http://download.pytorch.org/whl/cu75/torch-0.3.0.post4-cp36-cp36m-linux_x86_64.whl (397.4MB)\n",
            "\u001b[K    100% |████████████████████████████████| 397.4MB 30.5MB/s \n",
            "\u001b[?25hRequirement already satisfied: numpy in /usr/local/lib/python3.6/dist-packages (from torch==0.3.0.post4)\n",
            "Requirement already satisfied: pyyaml in /usr/local/lib/python3.6/dist-packages (from torch==0.3.0.post4)\n",
            "Installing collected packages: torch\n",
            "Successfully installed torch-0.3.0.post4\n",
            "Collecting torchvision\n",
            "  Downloading torchvision-0.2.0-py2.py3-none-any.whl (48kB)\n",
            "\u001b[K    100% |████████████████████████████████| 51kB 1.7MB/s \n",
            "\u001b[?25hRequirement already satisfied: numpy in /usr/local/lib/python3.6/dist-packages (from torchvision)\n",
            "Requirement already satisfied: six in /usr/local/lib/python3.6/dist-packages (from torchvision)\n",
            "Collecting pillow>=4.1.1 (from torchvision)\n",
            "  Downloading Pillow-5.0.0-cp36-cp36m-manylinux1_x86_64.whl (5.9MB)\n",
            "\u001b[K    100% |████████████████████████████████| 5.9MB 230kB/s \n",
            "\u001b[?25hRequirement already satisfied: torch in /usr/local/lib/python3.6/dist-packages (from torchvision)\n",
            "Requirement already satisfied: pyyaml in /usr/local/lib/python3.6/dist-packages (from torch->torchvision)\n",
            "Installing collected packages: pillow, torchvision\n",
            "  Found existing installation: Pillow 4.0.0\n",
            "    Uninstalling Pillow-4.0.0:\n",
            "      Successfully uninstalled Pillow-4.0.0\n",
            "Successfully installed pillow-5.0.0 torchvision-0.2.0\n",
            "Collecting fastai\n",
            "  Downloading fastai-0.6.tar.gz (429kB)\n",
            "\u001b[K    2% |▊                               | 10kB 8.9MB/s eta 0:00:01"
          ],
          "name": "stdout"
        },
        {
          "output_type": "stream",
          "text": [
            "\u001b[K    100% |████████████████████████████████| 430kB 2.0MB/s \n",
            "\u001b[?25hRequirement already satisfied: Jinja2 in /usr/local/lib/python3.6/dist-packages (from fastai)\n",
            "Requirement already satisfied: MarkupSafe in /usr/local/lib/python3.6/dist-packages (from fastai)\n",
            "Requirement already satisfied: Pillow in /usr/local/lib/python3.6/dist-packages (from fastai)\n",
            "Requirement already satisfied: PyYAML in /usr/local/lib/python3.6/dist-packages (from fastai)\n",
            "Requirement already satisfied: Pygments in /usr/local/lib/python3.6/dist-packages (from fastai)\n",
            "Collecting awscli (from fastai)\n",
            "  Downloading awscli-1.14.32-py2.py3-none-any.whl (1.2MB)\n",
            "\u001b[K    100% |████████████████████████████████| 1.2MB 1.0MB/s \n",
            "\u001b[?25hCollecting bcolz (from fastai)\n",
            "  Downloading bcolz-1.1.2.tar.gz (1.3MB)\n",
            "\u001b[K    100% |████████████████████████████████| 1.3MB 922kB/s \n",
            "\u001b[?25hRequirement already satisfied: bleach in /usr/local/lib/python3.6/dist-packages (from fastai)\n",
            "Requirement already satisfied: certifi in /usr/local/lib/python3.6/dist-packages (from fastai)\n",
            "Requirement already satisfied: cycler in /usr/local/lib/python3.6/dist-packages (from fastai)\n",
            "Requirement already satisfied: decorator in /usr/local/lib/python3.6/dist-packages (from fastai)\n",
            "Requirement already satisfied: entrypoints in /usr/local/lib/python3.6/dist-packages (from fastai)\n",
            "Collecting feather-format (from fastai)\n",
            "  Downloading feather-format-0.4.0.tar.gz\n",
            "Collecting graphviz (from fastai)\n",
            "  Downloading graphviz-0.8.2-py2.py3-none-any.whl\n",
            "Requirement already satisfied: html5lib in /usr/local/lib/python3.6/dist-packages (from fastai)\n",
            "Requirement already satisfied: ipykernel in /usr/local/lib/python3.6/dist-packages (from fastai)\n",
            "Requirement already satisfied: ipython in /usr/local/lib/python3.6/dist-packages (from fastai)\n",
            "Requirement already satisfied: ipython-genutils in /usr/local/lib/python3.6/dist-packages (from fastai)\n",
            "Collecting ipywidgets (from fastai)\n",
            "  Downloading ipywidgets-7.1.1-py2.py3-none-any.whl (68kB)\n",
            "\u001b[K    100% |████████████████████████████████| 71kB 7.6MB/s \n",
            "\u001b[?25hCollecting isoweek (from fastai)\n",
            "  Downloading isoweek-1.3.3-py2.py3-none-any.whl\n",
            "Collecting jedi (from fastai)\n",
            "  Downloading jedi-0.11.1-py2.py3-none-any.whl (250kB)\n",
            "\u001b[K    100% |████████████████████████████████| 256kB 3.3MB/s \n",
            "\u001b[?25hRequirement already satisfied: jsonschema in /usr/local/lib/python3.6/dist-packages (from fastai)\n",
            "Collecting jupyter (from fastai)\n",
            "  Downloading jupyter-1.0.0-py2.py3-none-any.whl\n",
            "Requirement already satisfied: jupyter-client in /usr/local/lib/python3.6/dist-packages (from fastai)\n",
            "Collecting jupyter-console (from fastai)\n",
            "  Downloading jupyter_console-5.2.0-py2.py3-none-any.whl\n",
            "Requirement already satisfied: jupyter-core in /usr/local/lib/python3.6/dist-packages (from fastai)\n",
            "Collecting jupyter_contrib_nbextensions (from fastai)\n",
            "  Downloading jupyter_contrib_nbextensions-0.4.0-py2.py3-none-any.whl (20.8MB)\n",
            "\u001b[K    100% |████████████████████████████████| 20.8MB 62kB/s \n",
            "\u001b[?25hCollecting kaggle-cli (from fastai)\n"
          ],
          "name": "stdout"
        },
        {
          "output_type": "stream",
          "text": [
            "  Downloading kaggle-cli-0.12.13.tar.gz\n",
            "Requirement already satisfied: matplotlib in /usr/local/lib/python3.6/dist-packages (from fastai)\n",
            "Requirement already satisfied: mistune in /usr/local/lib/python3.6/dist-packages (from fastai)\n",
            "Requirement already satisfied: nbconvert in /usr/local/lib/python3.6/dist-packages (from fastai)\n",
            "Requirement already satisfied: nbformat in /usr/local/lib/python3.6/dist-packages (from fastai)\n",
            "Requirement already satisfied: notebook in /usr/local/lib/python3.6/dist-packages (from fastai)\n",
            "Requirement already satisfied: numpy in /usr/local/lib/python3.6/dist-packages (from fastai)\n",
            "Requirement already satisfied: olefile in /usr/local/lib/python3.6/dist-packages (from fastai)\n",
            "Collecting opencv-python (from fastai)\n",
            "  Downloading opencv_python-3.4.0.12-cp36-cp36m-manylinux1_x86_64.whl (24.9MB)\n",
            "\u001b[K    100% |████████████████████████████████| 24.9MB 53kB/s \n",
            "\u001b[?25hRequirement already satisfied: pandas in /usr/local/lib/python3.6/dist-packages (from fastai)\n",
            "Collecting pandas_summary (from fastai)\n",
            "  Downloading pandas-summary-0.0.41.tar.gz\n",
            "Requirement already satisfied: pandocfilters in /usr/local/lib/python3.6/dist-packages (from fastai)\n",
            "Requirement already satisfied: pexpect in /usr/local/lib/python3.6/dist-packages (from fastai)\n",
            "Requirement already satisfied: pickleshare in /usr/local/lib/python3.6/dist-packages (from fastai)\n",
            "Collecting plotnine (from fastai)\n",
            "  Downloading plotnine-0.3.0-py2.py3-none-any.whl (3.4MB)\n",
            "\u001b[K    100% |████████████████████████████████| 3.4MB 387kB/s \n",
            "\u001b[?25hRequirement already satisfied: prompt-toolkit in /usr/local/lib/python3.6/dist-packages (from fastai)\n",
            "Requirement already satisfied: ptyprocess in /usr/local/lib/python3.6/dist-packages (from fastai)\n",
            "Requirement already satisfied: pyparsing in /usr/local/lib/python3.6/dist-packages (from fastai)\n",
            "Requirement already satisfied: python-dateutil in /usr/local/lib/python3.6/dist-packages (from fastai)\n",
            "Requirement already satisfied: pytz in /usr/local/lib/python3.6/dist-packages (from fastai)\n",
            "Requirement already satisfied: pyzmq in /usr/local/lib/python3.6/dist-packages (from fastai)\n",
            "Collecting qtconsole (from fastai)\n",
            "  Downloading qtconsole-4.3.1-py2.py3-none-any.whl (108kB)\n",
            "\u001b[K    100% |████████████████████████████████| 112kB 9.2MB/s \n",
            "\u001b[?25hRequirement already satisfied: scipy in /usr/local/lib/python3.6/dist-packages (from fastai)\n",
            "Requirement already satisfied: seaborn in /usr/local/lib/python3.6/dist-packages (from fastai)\n",
            "Requirement already satisfied: simplegeneric in /usr/local/lib/python3.6/dist-packages (from fastai)\n",
            "Requirement already satisfied: six in /usr/local/lib/python3.6/dist-packages (from fastai)\n",
            "Collecting sklearn_pandas (from fastai)\n",
            "  Downloading sklearn_pandas-1.6.0-py2.py3-none-any.whl\n",
            "Requirement already satisfied: terminado in /usr/local/lib/python3.6/dist-packages (from fastai)\n",
            "Requirement already satisfied: testpath in /usr/local/lib/python3.6/dist-packages (from fastai)\n",
            "Collecting torchtext (from fastai)\n",
            "  Downloading torchtext-0.2.1-py3-none-any.whl (41kB)\n",
            "\u001b[K    100% |████████████████████████████████| 51kB 10.7MB/s \n",
            "\u001b[?25hRequirement already satisfied: tornado in /usr/local/lib/python3.6/dist-packages (from fastai)\n",
            "Collecting tqdm (from fastai)\n",
            "  Downloading tqdm-4.19.5-py2.py3-none-any.whl (51kB)\n",
            "\u001b[K    100% |████████████████████████████████| 61kB 8.6MB/s \n",
            "\u001b[?25hRequirement already satisfied: traitlets in /usr/local/lib/python3.6/dist-packages (from fastai)\n",
            "Requirement already satisfied: wcwidth in /usr/local/lib/python3.6/dist-packages (from fastai)\n",
            "Requirement already satisfied: webencodings in /usr/local/lib/python3.6/dist-packages (from fastai)\n",
            "Collecting widgetsnbextension (from fastai)\n",
            "  Downloading widgetsnbextension-3.1.3-py2.py3-none-any.whl (2.2MB)\n",
            "\u001b[K    100% |████████████████████████████████| 2.2MB 587kB/s \n",
            "\u001b[?25hRequirement already satisfied: rsa<=3.5.0,>=3.1.2 in /usr/local/lib/python3.6/dist-packages (from awscli->fastai)\n",
            "Collecting docutils>=0.10 (from awscli->fastai)\n",
            "  Downloading docutils-0.14-py3-none-any.whl (543kB)\n",
            "\u001b[K    100% |████████████████████████████████| 552kB 2.2MB/s \n"
          ],
          "name": "stdout"
        },
        {
          "output_type": "stream",
          "text": [
            "\u001b[?25hCollecting s3transfer<0.2.0,>=0.1.12 (from awscli->fastai)\n",
            "  Downloading s3transfer-0.1.12-py2.py3-none-any.whl (59kB)\n",
            "\u001b[K    100% |████████████████████████████████| 61kB 9.7MB/s \n",
            "\u001b[?25hCollecting botocore==1.8.36 (from awscli->fastai)\n",
            "  Downloading botocore-1.8.36-py2.py3-none-any.whl (4.1MB)\n",
            "\u001b[K    100% |████████████████████████████████| 4.1MB 332kB/s \n",
            "\u001b[?25hCollecting colorama<=0.3.7,>=0.2.5 (from awscli->fastai)\n",
            "  Downloading colorama-0.3.7-py2.py3-none-any.whl\n",
            "Collecting pyarrow>=0.4.0 (from feather-format->fastai)\n",
            "  Downloading pyarrow-0.8.0-cp36-cp36m-manylinux1_x86_64.whl (6.9MB)\n",
            "\u001b[K    100% |████████████████████████████████| 6.9MB 188kB/s \n",
            "\u001b[?25hRequirement already satisfied: setuptools>=18.5 in /usr/lib/python3/dist-packages (from ipython->fastai)\n",
            "Collecting parso==0.1.1 (from jedi->fastai)\n",
            "  Downloading parso-0.1.1-py2.py3-none-any.whl (91kB)\n",
            "\u001b[K    100% |████████████████████████████████| 92kB 5.6MB/s \n",
            "\u001b[?25hCollecting jupyter-contrib-core>=0.3.3 (from jupyter_contrib_nbextensions->fastai)\n",
            "  Downloading jupyter_contrib_core-0.3.3-py2.py3-none-any.whl\n",
            "Collecting lxml (from jupyter_contrib_nbextensions->fastai)\n",
            "  Downloading lxml-4.1.1-cp36-cp36m-manylinux1_x86_64.whl (5.6MB)\n",
            "\u001b[K    100% |████████████████████████████████| 5.6MB 232kB/s \n",
            "\u001b[?25hCollecting jupyter-highlight-selected-word>=0.0.10 (from jupyter_contrib_nbextensions->fastai)\n",
            "  Downloading jupyter_highlight_selected_word-0.1.0-py2.py3-none-any.whl\n",
            "Collecting jupyter-latex-envs>=1.3.8 (from jupyter_contrib_nbextensions->fastai)\n",
            "  Downloading jupyter_latex_envs-1.4.1.tar.gz (793kB)\n",
            "\u001b[K    100% |████████████████████████████████| 798kB 1.5MB/s \n",
            "\u001b[?25hCollecting jupyter-nbextensions-configurator>=0.4.0 (from jupyter_contrib_nbextensions->fastai)\n",
            "  Downloading jupyter_nbextensions_configurator-0.4.0-py2.py3-none-any.whl (466kB)\n",
            "\u001b[K    100% |████████████████████████████████| 471kB 2.7MB/s \n",
            "\u001b[?25hCollecting MechanicalSoup<0.9,>=0.7.0 (from kaggle-cli->fastai)\n",
            "  Downloading MechanicalSoup-0.8.0-py2.py3-none-any.whl\n",
            "Requirement already satisfied: beautifulsoup4<4.7,>=4.6.0 in /usr/local/lib/python3.6/dist-packages (from kaggle-cli->fastai)\n",
            "Collecting cliff<2.9,>=2.8.0 (from kaggle-cli->fastai)\n",
            "  Downloading cliff-2.8.0.tar.gz (71kB)\n",
            "\u001b[K    100% |████████████████████████████████| 81kB 6.0MB/s \n",
            "\u001b[?25hCollecting configparser (from kaggle-cli->fastai)\n",
            "  Downloading configparser-3.5.0.tar.gz\n",
            "Collecting cssselect<1.1,>=1.0.1 (from kaggle-cli->fastai)\n",
            "  Downloading cssselect-1.0.3-py2.py3-none-any.whl\n",
            "Collecting progressbar2<3.35,>=3.34.3 (from kaggle-cli->fastai)\n",
            "  Downloading progressbar2-3.34.3-py2.py3-none-any.whl\n",
            "Requirement already satisfied: patsy>=0.4.1 in /usr/local/lib/python3.6/dist-packages (from plotnine->fastai)\n",
            "Collecting mizani>=0.4.1 (from plotnine->fastai)\n",
            "  Downloading mizani-0.4.4-py2.py3-none-any.whl (65kB)\n",
            "\u001b[K    100% |████████████████████████████████| 71kB 5.4MB/s \n",
            "\u001b[?25hRequirement already satisfied: statsmodels>=0.8.0 in /usr/local/lib/python3.6/dist-packages (from plotnine->fastai)\n",
            "Requirement already satisfied: scikit-learn>=0.15.0 in /usr/local/lib/python3.6/dist-packages (from sklearn_pandas->fastai)\n",
            "Requirement already satisfied: requests in /usr/local/lib/python3.6/dist-packages (from torchtext->fastai)\n",
            "Requirement already satisfied: pyasn1>=0.1.3 in /usr/local/lib/python3.6/dist-packages (from rsa<=3.5.0,>=3.1.2->awscli->fastai)\n",
            "Collecting jmespath<1.0.0,>=0.7.1 (from botocore==1.8.36->awscli->fastai)\n",
            "  Downloading jmespath-0.9.3-py2.py3-none-any.whl\n",
            "Collecting PrettyTable<0.8,>=0.7.1 (from cliff<2.9,>=2.8.0->kaggle-cli->fastai)\n",
            "  Downloading prettytable-0.7.2.zip\n",
            "Collecting cmd2>=0.6.7 (from cliff<2.9,>=2.8.0->kaggle-cli->fastai)\n",
            "  Downloading cmd2-0.7.9.tar.gz (71kB)\n",
            "\u001b[K    100% |████████████████████████████████| 71kB 9.4MB/s \n",
            "\u001b[?25hCollecting pbr!=2.1.0,>=2.0.0 (from cliff<2.9,>=2.8.0->kaggle-cli->fastai)\n"
          ],
          "name": "stdout"
        },
        {
          "output_type": "stream",
          "text": [
            "  Downloading pbr-3.1.1-py2.py3-none-any.whl (99kB)\r\n",
            "\u001b[K    100% |████████████████████████████████| 102kB 9.4MB/s \n",
            "\u001b[?25hCollecting stevedore>=1.20.0 (from cliff<2.9,>=2.8.0->kaggle-cli->fastai)\n",
            "  Downloading stevedore-1.28.0-py2.py3-none-any.whl\n",
            "Collecting python-utils>=2.1.0 (from progressbar2<3.35,>=3.34.3->kaggle-cli->fastai)\n",
            "  Downloading python_utils-2.2.0-py2.py3-none-any.whl\n",
            "Collecting palettable (from mizani>=0.4.1->plotnine->fastai)\n",
            "  Downloading palettable-3.1.0-py2.py3-none-any.whl (78kB)\n",
            "\u001b[K    100% |████████████████████████████████| 81kB 10.2MB/s \n",
            "\u001b[?25hRequirement already satisfied: chardet<3.1.0,>=3.0.2 in /usr/local/lib/python3.6/dist-packages (from requests->torchtext->fastai)\n",
            "Requirement already satisfied: idna<2.7,>=2.5 in /usr/local/lib/python3.6/dist-packages (from requests->torchtext->fastai)\n",
            "Requirement already satisfied: urllib3<1.23,>=1.21.1 in /usr/local/lib/python3.6/dist-packages (from requests->torchtext->fastai)\n",
            "Collecting pyperclip (from cmd2>=0.6.7->cliff<2.9,>=2.8.0->kaggle-cli->fastai)\n",
            "  Downloading pyperclip-1.6.0.tar.gz\n",
            "Building wheels for collected packages: fastai, bcolz, feather-format, kaggle-cli, pandas-summary, jupyter-latex-envs, cliff, configparser, PrettyTable, cmd2, pyperclip\n",
            "  Running setup.py bdist_wheel for fastai ... \u001b[?25l-\b \b\\\b \bdone\n",
            "\u001b[?25h  Stored in directory: /content/.cache/pip/wheels/13/6b/e1/1f1c38574e6abf3cfd747b345213ed1a4e2bf149646e16408d\n",
            "  Running setup.py bdist_wheel for bcolz ... \u001b[?25l-\b \b\\\b \b|\b \b/\b \b-\b \b\\\b \b|\b \b/\b \b-\b \b\\\b \b|\b \b/\b \b-\b \b\\\b \b|\b \b/\b \b-\b \b\\\b \b|\b \b/\b \b-\b \b\\\b \b|\b \b/\b \b-\b \b\\\b \b|\b \b/\b \b-\b \b\\\b \b|\b \b/\b \b-\b \b\\\b \b|\b \b/\b \b-\b \b\\\b \b|\b \b/\b \b-\b \b\\\b \b|\b \b/\b \b-\b \b\\\b \b|\b \b/\b \bdone\n",
            "\u001b[?25h  Stored in directory: /content/.cache/pip/wheels/e9/84/eb/f8f3caa627bb01ebc96034c3411f59870951246e5873b3f4c7\n",
            "  Running setup.py bdist_wheel for feather-format ... \u001b[?25l-\b \bdone\n",
            "\u001b[?25h  Stored in directory: /content/.cache/pip/wheels/9d/de/23/0ca11012cc6b573de3f8187727cfa97a8392a8605e331214e5\n",
            "  Running setup.py bdist_wheel for kaggle-cli ... \u001b[?25l-\b \bdone\n",
            "\u001b[?25h  Stored in directory: /content/.cache/pip/wheels/f0/3c/ff/c98870eeb0ca26250ce6a60dc9be23f547b7ef68b3d6a1c0b5\n",
            "  Running setup.py bdist_wheel for pandas-summary ... \u001b[?25l-\b \bdone\n",
            "\u001b[?25h  Stored in directory: /content/.cache/pip/wheels/20/29/c9/b3d9f2cbdb6f1eeeb98e263ae687d72e8138a26de91058bd0b\n"
          ],
          "name": "stdout"
        },
        {
          "output_type": "stream",
          "text": [
            "  Running setup.py bdist_wheel for jupyter-latex-envs ... \u001b[?25l-\b \b\\\b \bdone\n",
            "\u001b[?25h  Stored in directory: /content/.cache/pip/wheels/c4/6c/12/312460b777568482fbf308ab45154a573172ac33da9c91cf83\n",
            "  Running setup.py bdist_wheel for cliff ... \u001b[?25l-\b \bdone\n",
            "\u001b[?25h  Stored in directory: /content/.cache/pip/wheels/27/4c/aa/0f67aa384e67aacc5629321b1a3f85892362d4e9e5cd3a20f1\n",
            "  Running setup.py bdist_wheel for configparser ... \u001b[?25l-\b \bdone\n",
            "\u001b[?25h  Stored in directory: /content/.cache/pip/wheels/1c/bd/b4/277af3f6c40645661b4cd1c21df26aca0f2e1e9714a1d4cda8\n",
            "  Running setup.py bdist_wheel for PrettyTable ... \u001b[?25l-\b \bdone\n",
            "\u001b[?25h  Stored in directory: /content/.cache/pip/wheels/b6/90/7b/1c22b89217d0eba6d5f406e562365ebee804f0d4595b2bdbcd\n",
            "  Running setup.py bdist_wheel for cmd2 ... \u001b[?25l-\b \bdone\n",
            "\u001b[?25h  Stored in directory: /content/.cache/pip/wheels/11/d7/7a/93eda20d4eb44bd40913277c1f200b175cc8d613f820f3d8f1\n",
            "  Running setup.py bdist_wheel for pyperclip ... \u001b[?25l-\b \bdone\n",
            "\u001b[?25h  Stored in directory: /content/.cache/pip/wheels/a9/22/c3/8116911c3273f6aa0a90ce69c44fb8a6a0e139d79aeda5a73e\n",
            "Successfully built fastai bcolz feather-format kaggle-cli pandas-summary jupyter-latex-envs cliff configparser PrettyTable cmd2 pyperclip\n",
            "Installing collected packages: docutils, jmespath, botocore, s3transfer, colorama, awscli, bcolz, pyarrow, feather-format, graphviz, widgetsnbextension, ipywidgets, isoweek, parso, jedi, jupyter-console, qtconsole, jupyter, jupyter-contrib-core, lxml, jupyter-highlight-selected-word, jupyter-latex-envs, jupyter-nbextensions-configurator, jupyter-contrib-nbextensions, MechanicalSoup, PrettyTable, pyperclip, cmd2, pbr, stevedore, cliff, configparser, cssselect, python-utils, progressbar2, kaggle-cli, opencv-python, pandas-summary, palettable, mizani, plotnine, sklearn-pandas, tqdm, torchtext, fastai\n",
            "Successfully installed MechanicalSoup-0.8.0 PrettyTable-0.7.2 awscli-1.14.32 bcolz-1.1.2 botocore-1.8.36 cliff-2.8.0 cmd2-0.7.9 colorama-0.3.7 configparser-3.5.0 cssselect-1.0.3 docutils-0.14 fastai-0.6 feather-format-0.4.0 graphviz-0.8.2 ipywidgets-7.1.1 isoweek-1.3.3 jedi-0.11.1 jmespath-0.9.3 jupyter-1.0.0 jupyter-console-5.2.0 jupyter-contrib-core-0.3.3 jupyter-contrib-nbextensions-0.4.0 jupyter-highlight-selected-word-0.1.0 jupyter-latex-envs-1.4.1 jupyter-nbextensions-configurator-0.4.0 kaggle-cli-0.12.13 lxml-4.1.1 mizani-0.4.4 opencv-python-3.4.0.12 palettable-3.1.0 pandas-summary-0.0.41 parso-0.1.1 pbr-3.1.1 plotnine-0.3.0 progressbar2-3.34.3 pyarrow-0.8.0 pyperclip-1.6.0 python-utils-2.2.0 qtconsole-4.3.1 s3transfer-0.1.12 sklearn-pandas-1.6.0 stevedore-1.28.0 torchtext-0.2.1 tqdm-4.19.5 widgetsnbextension-3.1.3\n",
            "Get:1 http://security.ubuntu.com/ubuntu artful-security InRelease [78.6 kB]\n",
            "Hit:2 http://archive.ubuntu.com/ubuntu artful InRelease\n",
            "Get:3 http://security.ubuntu.com/ubuntu artful-security/universe Sources [10.5 kB]\n",
            "Get:4 http://archive.ubuntu.com/ubuntu artful-updates InRelease [78.6 kB]\n",
            "Get:5 http://security.ubuntu.com/ubuntu artful-security/universe amd64 Packages [31.3 kB]\n",
            "Get:6 http://security.ubuntu.com/ubuntu artful-security/main amd64 Packages [93.3 kB]\n",
            "Get:7 http://archive.ubuntu.com/ubuntu artful-backports InRelease [72.2 kB]\n",
            "Get:8 http://archive.ubuntu.com/ubuntu artful-updates/universe Sources [23.8 kB]\n",
            "Get:9 http://archive.ubuntu.com/ubuntu artful-updates/main Sources [81.9 kB]\n",
            "Get:10 http://archive.ubuntu.com/ubuntu artful-updates/universe amd64 Packages [82.0 kB]\n",
            "Get:11 http://archive.ubuntu.com/ubuntu artful-updates/main amd64 Packages [216 kB]\n",
            "Fetched 768 kB in 1s (709 kB/s)\n",
            "Reading package lists... Done\n",
            "Building dependency tree       \n",
            "Reading state information... Done\n",
            "6 packages can be upgraded. Run 'apt list --upgradable' to see them.\n"
          ],
          "name": "stdout"
        },
        {
          "output_type": "stream",
          "text": [
            "Reading package lists... Done\n",
            "Building dependency tree       \n",
            "Reading state information... Done\n",
            "The following additional packages will be installed:\n",
            "  libice6 x11-common\n",
            "The following NEW packages will be installed:\n",
            "  libice6 libsm6 libxext6 x11-common\n",
            "0 upgraded, 4 newly installed, 0 to remove and 6 not upgraded.\n",
            "Need to get 108 kB of archives.\n",
            "After this operation, 626 kB of additional disk space will be used.\n",
            "Get:1 http://archive.ubuntu.com/ubuntu artful/main amd64 libxext6 amd64 2:1.3.3-1 [29.4 kB]\n",
            "Get:2 http://archive.ubuntu.com/ubuntu artful/main amd64 x11-common all 1:7.7+19ubuntu3 [22.0 kB]\n",
            "Get:3 http://archive.ubuntu.com/ubuntu artful/main amd64 libice6 amd64 2:1.0.9-2 [40.2 kB]\n",
            "Get:4 http://archive.ubuntu.com/ubuntu artful/main amd64 libsm6 amd64 2:1.2.2-1 [15.8 kB]\n",
            "Fetched 108 kB in 0s (208 kB/s)\n",
            "\n",
            "\u001b7\u001b[0;23r\u001b8\u001b[1ASelecting previously unselected package libxext6:amd64.\n",
            "(Reading database ... 16633 files and directories currently installed.)\n",
            "Preparing to unpack .../libxext6_2%3a1.3.3-1_amd64.deb ...\n",
            "\u001b7\u001b[24;0f\u001b[42m\u001b[30mProgress: [  0%]\u001b[49m\u001b[39m [..........................................................] \u001b8\u001b7\u001b[24;0f\u001b[42m\u001b[30mProgress: [  4%]\u001b[49m\u001b[39m [##........................................................] \u001b8Unpacking libxext6:amd64 (2:1.3.3-1) ...\n",
            "\u001b7\u001b[24;0f\u001b[42m\u001b[30mProgress: [  9%]\u001b[49m\u001b[39m [#####.....................................................] \u001b8\u001b7\u001b[24;0f\u001b[42m\u001b[30mProgress: [ 14%]\u001b[49m\u001b[39m [########..................................................] \u001b8Selecting previously unselected package x11-common.\n",
            "Preparing to unpack .../x11-common_1%3a7.7+19ubuntu3_all.deb ...\n",
            "\u001b7\u001b[24;0f\u001b[42m\u001b[30mProgress: [ 19%]\u001b[49m\u001b[39m [###########...............................................] \u001b8Unpacking x11-common (1:7.7+19ubuntu3) ...\n",
            "\u001b7\u001b[24;0f\u001b[42m\u001b[30mProgress: [ 23%]\u001b[49m\u001b[39m [#############.............................................] \u001b8\u001b7\u001b[24;0f\u001b[42m\u001b[30mProgress: [ 28%]\u001b[49m\u001b[39m [################..........................................] \u001b8Selecting previously unselected package libice6:amd64.\n",
            "Preparing to unpack .../libice6_2%3a1.0.9-2_amd64.deb ...\n",
            "\u001b7\u001b[24;0f\u001b[42m\u001b[30mProgress: [ 33%]\u001b[49m\u001b[39m [###################.......................................] \u001b8Unpacking libice6:amd64 (2:1.0.9-2) ...\n",
            "\u001b7\u001b[24;0f\u001b[42m\u001b[30mProgress: [ 38%]\u001b[49m\u001b[39m [######################....................................] \u001b8\u001b7\u001b[24;0f\u001b[42m\u001b[30mProgress: [ 42%]\u001b[49m\u001b[39m [########################..................................] \u001b8Selecting previously unselected package libsm6:amd64.\n",
            "Preparing to unpack .../libsm6_2%3a1.2.2-1_amd64.deb ...\n",
            "\u001b7\u001b[24;0f\u001b[42m\u001b[30mProgress: [ 47%]\u001b[49m\u001b[39m [###########################...............................] \u001b8Unpacking libsm6:amd64 (2:1.2.2-1) ...\n",
            "\u001b7\u001b[24;0f\u001b[42m\u001b[30mProgress: [ 52%]\u001b[49m\u001b[39m [##############################............................] \u001b8\u001b7\u001b[24;0f\u001b[42m\u001b[30mProgress: [ 57%]\u001b[49m\u001b[39m [#################################.........................] \u001b8Setting up libxext6:amd64 (2:1.3.3-1) ...\n",
            "\u001b7\u001b[24;0f\u001b[42m\u001b[30mProgress: [ 61%]\u001b[49m\u001b[39m [###################################.......................] \u001b8\u001b7\u001b[24;0f\u001b[42m\u001b[30mProgress: [ 66%]\u001b[49m\u001b[39m [######################################....................] \u001b8Processing triggers for libc-bin (2.26-0ubuntu2) ...\n",
            "Setting up x11-common (1:7.7+19ubuntu3) ...\n",
            "\u001b7\u001b[24;0f\u001b[42m\u001b[30mProgress: [ 71%]\u001b[49m\u001b[39m [#########################################.................] \u001b8update-rc.d: warning: start and stop actions are no longer supported; falling back to defaults\n",
            "invoke-rc.d: could not determine current runlevel\n",
            "invoke-rc.d: policy-rc.d denied execution of start.\n",
            "\u001b7\u001b[24;0f\u001b[42m\u001b[30mProgress: [ 76%]\u001b[49m\u001b[39m [############################################..............] \u001b8Setting up libice6:amd64 (2:1.0.9-2) ...\n",
            "\u001b7\u001b[24;0f\u001b[42m\u001b[30mProgress: [ 80%]\u001b[49m\u001b[39m [##############################################............] \u001b8\u001b7\u001b[24;0f\u001b[42m\u001b[30mProgress: [ 85%]\u001b[49m\u001b[39m [#################################################.........] \u001b8Setting up libsm6:amd64 (2:1.2.2-1) ...\n",
            "\u001b7\u001b[24;0f\u001b[42m\u001b[30mProgress: [ 90%]\u001b[49m\u001b[39m [####################################################......] \u001b8\u001b7\u001b[24;0f\u001b[42m\u001b[30mProgress: [ 95%]\u001b[49m\u001b[39m [#######################################################...] \u001b8Processing triggers for libc-bin (2.26-0ubuntu2) ...\n",
            "\n",
            "\u001b7\u001b[0;24r\u001b8\u001b[1A\u001b[J"
          ],
          "name": "stdout"
        }
      ]
    },
    {
      "metadata": {
        "id": "5Kv_Fv-yC5rF",
        "colab_type": "code",
        "colab": {}
      },
      "cell_type": "code",
      "source": [
        "# This will fail if fastai has not been installed\n",
        "from fastai.imports import *"
      ],
      "execution_count": 0,
      "outputs": []
    },
    {
      "metadata": {
        "id": "xyP0ojqi_o5v",
        "colab_type": "text"
      },
      "cell_type": "markdown",
      "source": [
        "**3. Print VM properties**"
      ]
    },
    {
      "metadata": {
        "id": "toMUCR90_-4w",
        "colab_type": "code",
        "outputId": "9e142bb2-fd2a-41af-a991-e364f94efa39",
        "colab": {
          "base_uri": "https://localhost:8080/",
          "height": 255
        }
      },
      "cell_type": "code",
      "source": [
        "!echo \"Hard drive info\\n===========================\"\n",
        "!df -H /\n",
        "!echo \"\\nRAM info\\n===========================\"\n",
        "!free -h\n",
        "!echo \"\\nVM User info\\n===========================\"\n",
        "!whoami"
      ],
      "execution_count": 0,
      "outputs": [
        {
          "output_type": "stream",
          "text": [
            "Hard drive info\r\n",
            "===========================\n",
            "Filesystem      Size  Used Avail Use% Mounted on\n",
            "overlay          49G  7.6G   41G  16% /\n",
            "\n",
            "RAM info\n",
            "===========================\n",
            "              total        used        free      shared  buff/cache   available\n",
            "Mem:            12G        1.0G        3.3G        274M        8.5G         11G\n",
            "Swap:            0B          0B          0B\n",
            "\n",
            "VM User info\n",
            "===========================\n",
            "root\n"
          ],
          "name": "stdout"
        }
      ]
    },
    {
      "metadata": {
        "id": "GlXnCyRmCoJp",
        "colab_type": "code",
        "colab": {}
      },
      "cell_type": "code",
      "source": [
        ""
      ],
      "execution_count": 0,
      "outputs": []
    }
  ]
}