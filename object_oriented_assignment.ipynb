{
 "cells": [
  {
   "cell_type": "markdown",
   "metadata": {},
   "source": [
    "Q-1. Fill in the Line class methods to accept coordinate as a pair of tuples and return the slope and distance of the line.\n",
    "    "
   ]
  },
  {
   "cell_type": "code",
   "execution_count": 10,
   "metadata": {},
   "outputs": [],
   "source": [
    "import math\n",
    "class Line(object):\n",
    "    def __init__(self,coor1,coor2):\n",
    "        self.coor1=coor1\n",
    "        self.coor2=coor2\n",
    "        self.x1=self.coor1[0]\n",
    "        self.x2=self.coor2[0]\n",
    "        self.y1=self.coor1[1]\n",
    "        self.y2=self.coor2[1]\n",
    "    def distance(self):\n",
    "        dist=math.sqrt(((self.x2-self.x1)**2)+((self.y2-self.y1)**2))\n",
    "        return dist\n",
    "    def slope(self):\n",
    "        m=(self.y2-self.y1)/(self.x2-self.x1)\n",
    "        return m\n",
    "    \n",
    "    "
   ]
  },
  {
   "cell_type": "code",
   "execution_count": 11,
   "metadata": {},
   "outputs": [
    {
     "name": "stdout",
     "output_type": "stream",
     "text": [
      "9.433981132056603\n",
      "1.6\n"
     ]
    }
   ],
   "source": [
    "#Example\n",
    "coordinate1=(3,2)\n",
    "coordinate2=(8,10)\n",
    "\n",
    "li=Line(coordinate1,coordinate2)\n",
    "\n",
    "li_dist=li.distance()\n",
    "li_slope=li.slope()\n",
    "print(li_dist)\n",
    "print(li_slope)\n"
   ]
  },
  {
   "cell_type": "markdown",
   "metadata": {},
   "source": [
    "Q-2. Fill in the class\n",
    "    \n",
    "    \n",
    "    class Cylinder(object):\n",
    "    \n",
    "    def __init__(self,height=1,radius=1):\n",
    "        pass\n",
    "        \n",
    "    def volume(self):\n",
    "        pass\n",
    "    \n",
    "    def surface_area(self):\n",
    "        pass\n",
    "        \n",
    "        \n",
    " EXAMPLE OUTPUT\n",
    "c = Cylinder(2,3)\n",
    "\n",
    "c.volume()\n",
    "\n",
    "56.52\n",
    "\n",
    "c.surface_area()\n",
    "\n",
    "94.2"
   ]
  },
  {
   "cell_type": "code",
   "execution_count": 12,
   "metadata": {},
   "outputs": [],
   "source": [
    "class Cylinder(object):\n",
    "    \n",
    "    pi=3.14\n",
    "    \n",
    "    def __init__(self,height=1,radius=1):\n",
    "        self.height=height\n",
    "        self.radius=radius\n",
    "        \n",
    "    def volume(self):\n",
    "        return (Cylinder.pi)*(self.radius**2)*(self.height)\n",
    "    \n",
    "    def surface_area(self):\n",
    "        return (2*(Cylinder.pi)*(self.radius)*(self.height))+(2*Cylinder.pi*(self.radius**2))"
   ]
  },
  {
   "cell_type": "code",
   "execution_count": 14,
   "metadata": {},
   "outputs": [
    {
     "name": "stdout",
     "output_type": "stream",
     "text": [
      "56.52\n",
      "94.2\n"
     ]
    }
   ],
   "source": [
    "c=Cylinder(2,3)\n",
    "print(c.volume())\n",
    "print(c.surface_area())\n"
   ]
  },
  {
   "cell_type": "code",
   "execution_count": null,
   "metadata": {},
   "outputs": [],
   "source": []
  },
  {
   "cell_type": "code",
   "execution_count": null,
   "metadata": {},
   "outputs": [],
   "source": []
  }
 ],
 "metadata": {
  "kernelspec": {
   "display_name": "Python 3",
   "language": "python",
   "name": "python3"
  },
  "language_info": {
   "codemirror_mode": {
    "name": "ipython",
    "version": 3
   },
   "file_extension": ".py",
   "mimetype": "text/x-python",
   "name": "python",
   "nbconvert_exporter": "python",
   "pygments_lexer": "ipython3",
   "version": "3.6.4"
  }
 },
 "nbformat": 4,
 "nbformat_minor": 2
}
