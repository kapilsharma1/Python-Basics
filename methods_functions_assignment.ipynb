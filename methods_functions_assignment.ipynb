{
 "cells": [
  {
   "cell_type": "markdown",
   "metadata": {},
   "source": [
    "Q-1 Write a function that computes the volume of a sphere given its radius.\n"
   ]
  },
  {
   "cell_type": "code",
   "execution_count": 6,
   "metadata": {},
   "outputs": [
    {
     "name": "stdout",
     "output_type": "stream",
     "text": [
      "696.56\n"
     ]
    }
   ],
   "source": [
    "volume=lambda radius:(4/3)*(3.14)*(radius**3)\n",
    "\n",
    "\n",
    "my_volume=volume(5.5)\n",
    "print(\"%.2f\"%my_volume)"
   ]
  },
  {
   "cell_type": "markdown",
   "metadata": {},
   "source": [
    "Q-2 Write a function that checks whether a number is in a given range (Inclusive of high and low)"
   ]
  },
  {
   "cell_type": "code",
   "execution_count": 8,
   "metadata": {},
   "outputs": [
    {
     "name": "stdout",
     "output_type": "stream",
     "text": [
      "True\n"
     ]
    }
   ],
   "source": [
    "def check_num(num,low,high):\n",
    "    if num in range(low,high+1):\n",
    "        return True\n",
    "    else:\n",
    "        return False\n",
    "    \n",
    "check=check_num(5,1,10)\n",
    "print(check)"
   ]
  },
  {
   "cell_type": "markdown",
   "metadata": {},
   "source": [
    "Q-3 Write a Python function to multiply all the numbers in a list."
   ]
  },
  {
   "cell_type": "code",
   "execution_count": 14,
   "metadata": {},
   "outputs": [
    {
     "name": "stdout",
     "output_type": "stream",
     "text": [
      "3628800\n"
     ]
    }
   ],
   "source": [
    "def list_multiply(my_list):\n",
    "    product=1\n",
    "    for element in my_list:\n",
    "        product*=element\n",
    "    return product\n",
    "\n",
    "\n",
    "check_list=list(range(1,11))\n",
    "check=list_multiply(check_list)\n",
    "print(check)\n",
    "\n",
    "        "
   ]
  },
  {
   "cell_type": "markdown",
   "metadata": {},
   "source": [
    "Q-4 Write a Python function that takes a list and returns a new list with unique elements of the first list."
   ]
  },
  {
   "cell_type": "code",
   "execution_count": 15,
   "metadata": {},
   "outputs": [
    {
     "name": "stdout",
     "output_type": "stream",
     "text": [
      "[1, 2, 3, 7, 8, 9, 55]\n"
     ]
    }
   ],
   "source": [
    "def unique_elt_list(my_list):\n",
    "    my_set=set(my_list)\n",
    "    return list(my_set)\n",
    "\n",
    "check_list=[1,1,2,2,2,3,3,55,55,7,8,9,9]\n",
    "check=unique_elt_list(check_list)\n",
    "print(check)\n",
    "    "
   ]
  },
  {
   "cell_type": "markdown",
   "metadata": {},
   "source": [
    "Q-5 Write a Python function that checks whether a passed string is palindrome or not.\n"
   ]
  },
  {
   "cell_type": "code",
   "execution_count": 18,
   "metadata": {},
   "outputs": [
    {
     "name": "stdout",
     "output_type": "stream",
     "text": [
      "True\n"
     ]
    }
   ],
   "source": [
    "def is_palindrome(my_str):\n",
    "    if my_str==my_str[::-1]:\n",
    "        return True\n",
    "    else:\n",
    "        return False\n",
    "    \n",
    "check=is_palindrome(\"madam\")\n",
    "print(check)\n",
    "    "
   ]
  },
  {
   "cell_type": "markdown",
   "metadata": {},
   "source": [
    "Q-6 Write a Python function to check whether a string is pangram or not.\n",
    "\n",
    "Note : Pangrams are words or sentences containing every letter of the alphabet at least once.\n",
    "For example : \"The quick brown fox jumps over the lazy dog\"\n",
    "\n"
   ]
  },
  {
   "cell_type": "code",
   "execution_count": 3,
   "metadata": {},
   "outputs": [
    {
     "name": "stdout",
     "output_type": "stream",
     "text": [
      "True\n"
     ]
    }
   ],
   "source": [
    "def is_pangram(my_str):\n",
    "    import string\n",
    "    alphabets=string.ascii_lowercase\n",
    "    total=0\n",
    "    \n",
    "    for alphabet in alphabets:\n",
    "        if alphabet in my_str:\n",
    "            total+=1\n",
    "    if total==26:\n",
    "        return True\n",
    "    else:\n",
    "        return False\n",
    "    \n",
    "check=is_pangram(\"The quick brown fox jumps over the lazy dog\")\n",
    "print(check)\n",
    "    \n",
    "\n"
   ]
  },
  {
   "cell_type": "markdown",
   "metadata": {},
   "source": [
    "Q-7 Write a Python function that accepts a string and calculate the number of upper case letters and lower case letters."
   ]
  },
  {
   "cell_type": "code",
   "execution_count": 21,
   "metadata": {},
   "outputs": [
    {
     "name": "stdout",
     "output_type": "stream",
     "text": [
      "Number of uppercase charecters=4\n",
      "Number of lowercase charecters=33\n"
     ]
    }
   ],
   "source": [
    "def upper_lower(my_str):\n",
    "    upper_char=0\n",
    "    lower_char=0\n",
    "    for char in my_str:\n",
    "        if char.isupper():\n",
    "            upper_char+=1\n",
    "        elif char.islower():\n",
    "            lower_char+=1\n",
    "    print(\"Number of uppercase charecters=%d\"%upper_char)\n",
    "    print(\"Number of lowercase charecters=%d\"%lower_char)\n",
    "    \n",
    "upper_lower(\"Hello Mr. Rogers, how are you this fine Tuesday?\")\n",
    "            "
   ]
  },
  {
   "cell_type": "code",
   "execution_count": null,
   "metadata": {},
   "outputs": [],
   "source": []
  },
  {
   "cell_type": "code",
   "execution_count": null,
   "metadata": {},
   "outputs": [],
   "source": []
  },
  {
   "cell_type": "code",
   "execution_count": null,
   "metadata": {},
   "outputs": [],
   "source": []
  }
 ],
 "metadata": {
  "kernelspec": {
   "display_name": "Python 3",
   "language": "python",
   "name": "python3"
  },
  "language_info": {
   "codemirror_mode": {
    "name": "ipython",
    "version": 3
   },
   "file_extension": ".py",
   "mimetype": "text/x-python",
   "name": "python",
   "nbconvert_exporter": "python",
   "pygments_lexer": "ipython3",
   "version": "3.6.4"
  }
 },
 "nbformat": 4,
 "nbformat_minor": 2
}
